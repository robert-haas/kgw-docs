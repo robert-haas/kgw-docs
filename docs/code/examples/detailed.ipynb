{
 "cells": [
  {
   "cell_type": "markdown",
   "id": "08f4e308-7688-4c73-8a28-6072aa0a85fa",
   "metadata": {},
   "source": [
    "# Detailed example\n",
    "\n",
    "The following provides a detailed example for getting familiar with most features of the package [kgw](https://robert-haas.github.io/kgw-docs)."
   ]
  },
  {
   "cell_type": "markdown",
   "id": "d9dd6c69-765f-4215-8cd0-16077461ff9f",
   "metadata": {},
   "source": [
    "## Load the package"
   ]
  },
  {
   "cell_type": "code",
   "execution_count": 1,
   "id": "5ec392a2-568b-449f-97e9-a835831d1be0",
   "metadata": {},
   "outputs": [
    {
     "name": "stdout",
     "output_type": "stream",
     "text": [
      "0.1.0\n"
     ]
    }
   ],
   "source": [
    "import kgw\n",
    "\n",
    "print(kgw.__version__)"
   ]
  },
  {
   "cell_type": "markdown",
   "id": "e11edcf0-82fa-4b47-aa32-a84f38fa0a72",
   "metadata": {},
   "source": [
    "## List all supported projects\n",
    "\n",
    "Currently this package supports five knowledge graph projects from the field of biomedicine. They are grouped in a module named after the domain, because future versions of the package may cover more projects from different domains."
   ]
  },
  {
   "cell_type": "code",
   "execution_count": 2,
   "id": "9954b917-b965-42b2-aa6d-5adac44e3e80",
   "metadata": {},
   "outputs": [
    {
     "name": "stdout",
     "output_type": "stream",
     "text": [
      "['Ckg', 'Hald', 'MonarchKg', 'Oregano', 'PrimeKg']\n"
     ]
    }
   ],
   "source": [
    "project_names = [x for x in dir(kgw.biomedicine) if not x.startswith(\"_\")]\n",
    "\n",
    "print(project_names)"
   ]
  },
  {
   "cell_type": "markdown",
   "id": "a1397a69-1dec-4491-87b6-954d8f1abbb1",
   "metadata": {},
   "source": [
    "## Get details for a project\n",
    "\n",
    "Each project comes with additional information such as references to its publication, website and data repository. The text can be read in a nicely formatted form in the [API documentation](https://robert-haas.github.io/kgw-docs/rst/api/index.html). Alternatively, it can be accessed in its raw ReST form by calling [Python's built-in help system](https://docs.python.org/3/library/functions.html#help) on the project's class, which is done below for the project HALD:"
   ]
  },
  {
   "cell_type": "code",
   "execution_count": 3,
   "id": "f669e712-fe28-4a26-84f9-d0f2432157ca",
   "metadata": {},
   "outputs": [
    {
     "name": "stdout",
     "output_type": "stream",
     "text": [
      "Help on class Hald in module kgw.biomedicine._hald:\n",
      "\n",
      "class Hald(kgw._shared.base.Project)\n",
      " |  Hald(version, workdir)\n",
      " |\n",
      " |  Human Aging and Longevity Dataset (HALD).\n",
      " |\n",
      " |  References\n",
      " |  ----------\n",
      " |  - Publication: https://doi.org/10.1038/s41597-023-02781-0\n",
      " |  - Website: https://bis.zju.edu.cn/hald\n",
      " |  - Code: https://github.com/zexuwu/hald\n",
      " |  - Data: https://doi.org/10.6084/m9.figshare.22828196\n",
      " |\n",
      " |  Method resolution order:\n",
      " |      Hald\n",
      " |      kgw._shared.base.Project\n",
      " |      builtins.object\n",
      " |\n",
      " |  Methods defined here:\n",
      " |\n",
      " |  to_schema(self)\n",
      " |      Determine the schema of the knowledge graph.\n",
      " |\n",
      " |      Output: `schema.html`\n",
      " |\n",
      " |      Generate a standalone HTML file with an interactive graph visualization\n",
      " |      of all entity types in the KG and the relationship types by which they\n",
      " |      are connected.\n",
      " |\n",
      " |      References\n",
      " |      ----------\n",
      " |      - `Neo4j: Graph modeling guidelines\n",
      " |        <https://neo4j.com/docs/getting-started/data-modeling/guide-data-modeling/>`__\n",
      " |\n",
      " |  ----------------------------------------------------------------------\n",
      " |  Methods inherited from kgw._shared.base.Project:\n",
      " |\n",
      " |  __init__(self, version, workdir)\n",
      " |      Initialize a project instance so that tasks can be defined on it.\n",
      " |\n",
      " |      Parameters\n",
      " |      ----------\n",
      " |      version : `str`\n",
      " |          Version of the dataset that will be downloaded and processed.\n",
      " |          The method :meth:`get_versions` returns all currently available\n",
      " |          versions.\n",
      " |      workdir : `str`\n",
      " |          Path of the working directory in which a unique subdirectory will\n",
      " |          be created to hold all downloaded and generated files for\n",
      " |          this project and version.\n",
      " |\n",
      " |      Raises\n",
      " |      ------\n",
      " |      ValueError\n",
      " |          Raised if `version` is invalid or unavailable.\n",
      " |      TypeError\n",
      " |          Raised if `workdir` is not a string.\n",
      " |\n",
      " |      Notes\n",
      " |      -----\n",
      " |      This class does not automatically download or process any data.\n",
      " |      Such tasks first need to be specified by calling the relevant methods\n",
      " |      on the project object and then passing it to the function :func:`~kgw.run`\n",
      " |      that builds and executes a corresponding workflow.\n",
      " |\n",
      " |  to_csv(self)\n",
      " |      Convert the knowledge graph to two `CSV <https://en.wikipedia.org/wiki/Comma-separated_values>`__ files.\n",
      " |\n",
      " |      File names: `kg_nodes.csv` and `kg_edges.csv`\n",
      " |\n",
      " |  to_graphml(self)\n",
      " |      Convert the knowledge graph to a `GraphML <https://en.wikipedia.org/wiki/GraphML>`__ file.\n",
      " |\n",
      " |      File name: `kg.graphml`\n",
      " |\n",
      " |  to_jsonl(self)\n",
      " |      Convert the knowledge graph to two `JSONL <https://jsonlines.org>`__ files.\n",
      " |\n",
      " |      Output: `kg_nodes.jsonl` and `kg_edges.jsonl`\n",
      " |\n",
      " |  to_metta(self, representation='spo')\n",
      " |      Convert the knowledge graph to a `MeTTa <https://metta-lang.dev>`__ file.\n",
      " |\n",
      " |      File name: Depending on the chosen representation, either\n",
      " |      `kg_spo.metta`,\n",
      " |      `kg_properties_aggregated.metta`, or\n",
      " |      `kg_properties_expanded.metta`.\n",
      " |\n",
      " |      Parameters\n",
      " |      ----------\n",
      " |      representation : str\n",
      " |          Available options:\n",
      " |\n",
      " |          - `\"spo\"`: Semantic triples of the form `(\"subject\", \"predicate\", \"object\")`.\n",
      " |            If properties are present in the original KG, they are ignored in this\n",
      " |            representation.\n",
      " |          - `\"properties_aggregated\"`: Properties (=key-value pairs) are represented\n",
      " |            by putting each key on a separate line, but each value is ensured to be a\n",
      " |            single number or string. This means values that hold a compound data type\n",
      " |            like a list or dict are aggregated into one string in JSON string format.\n",
      " |            Text identifiers of nodes are reused to create the association with their\n",
      " |            properties, while text identifiers of the form \"e{cnt}\" are introduced for\n",
      " |            edges to serve the same purpose.\n",
      " |          - `\"properties_expanded\"`: Properties (=key-value pairs) are represented\n",
      " |            by fully expanding their keys and values onto as many lines as required.\n",
      " |            Numerical identifiers for nodes and edges are introduced to create the\n",
      " |            association between these elements and their properties.\n",
      " |\n",
      " |  to_sql(self)\n",
      " |      Convert the knowledge graph to a `SQL <https://docs.fileformat.com/database/sql>`__ file.\n",
      " |\n",
      " |      Output: `kg.sql`\n",
      " |\n",
      " |      References\n",
      " |      ----------\n",
      " |      - `<>`__\n",
      " |\n",
      " |  to_sqlite(self)\n",
      " |      Convert the knowledge graph to a file-based SQLite database.\n",
      " |\n",
      " |      Output: `kg.sqlite`\n",
      " |\n",
      " |      References\n",
      " |      ----------\n",
      " |      - `SQLite <https://www.sqlite.org>`__\n",
      " |\n",
      " |  to_statistics(self)\n",
      " |      Determine some statistical properties of the knowledge graph.\n",
      " |\n",
      " |      Output: `statistics.json`\n",
      " |\n",
      " |      This method generates a JSON file with simple statistics\n",
      " |      such as node, edge and type counts.\n",
      " |\n",
      " |  ----------------------------------------------------------------------\n",
      " |  Class methods inherited from kgw._shared.base.Project:\n",
      " |\n",
      " |  get_versions()\n",
      " |      Fetch all currently available versions from the data repository of the project.\n",
      " |\n",
      " |  ----------------------------------------------------------------------\n",
      " |  Data descriptors inherited from kgw._shared.base.Project:\n",
      " |\n",
      " |  __dict__\n",
      " |      dictionary for instance variables\n",
      " |\n",
      " |  __weakref__\n",
      " |      list of weak references to the object\n",
      "\n"
     ]
    }
   ],
   "source": [
    "help(kgw.biomedicine.Hald)"
   ]
  },
  {
   "cell_type": "markdown",
   "id": "f03d4951-6323-4206-9885-df6252bb90c1",
   "metadata": {},
   "source": [
    "## Inspect available versions of a project\n",
    "\n",
    "Projects share their knowledge graphs in various data formats and make them available on different data repositories on the web. Often they publish multiple versions of their knowledge graph and do so with different naming conventions for their version identifiers. One reason for providing an update is that an error was discovered in a previous version, but another more important reason is that newer source data became available and so a new knowledge graph is published to reflect the status quo of available information.\n",
    "\n",
    "This package can fetch all currently available versions for each project from their respective data repositories."
   ]
  },
  {
   "cell_type": "code",
   "execution_count": 4,
   "id": "9b03b3f1-8941-4394-aa42-65b42c3c68fe",
   "metadata": {},
   "outputs": [
    {
     "data": {
      "text/plain": [
       "['1', '2', '3', '4', '5', '6']"
      ]
     },
     "execution_count": 4,
     "metadata": {},
     "output_type": "execute_result"
    }
   ],
   "source": [
    "kgw.biomedicine.Hald.get_versions()"
   ]
  },
  {
   "cell_type": "code",
   "execution_count": 5,
   "id": "4202c67f-2397-4775-8d23-6dca409d00c0",
   "metadata": {},
   "outputs": [
    {
     "data": {
      "text/plain": [
       "['2023-09-28',\n",
       " '2023-10-17',\n",
       " '2023-11-16',\n",
       " '2023-12-16',\n",
       " '2024-01-13',\n",
       " '2024-02-13',\n",
       " '2024-03-13',\n",
       " '2024-03-18',\n",
       " '2024-04-18',\n",
       " '2024-05-17',\n",
       " '2024-05-22',\n",
       " '2024-06-10',\n",
       " '2024-07-04',\n",
       " '2024-07-12',\n",
       " '2024-08-12',\n",
       " '2024-09-12']"
      ]
     },
     "execution_count": 5,
     "metadata": {},
     "output_type": "execute_result"
    }
   ],
   "source": [
    "kgw.biomedicine.MonarchKg.get_versions()"
   ]
  },
  {
   "cell_type": "markdown",
   "id": "e47c53bc-4528-4fb4-963a-2bcaf69cde96",
   "metadata": {},
   "source": [
    "## Define a workflow covering multiple projects and versions\n",
    "\n",
    "This example demonstrates a few points:\n",
    "\n",
    "1. A project is represented by a class that has to be instantiated with a `version` and `workdir` argument.\n",
    "   - The version identifier needs to be one of those listed by `get_versions()`.\n",
    "   - The working directory needs to be a local directory, which after running the workflow will contain both the raw downloads and generated results.\n",
    "2. A project's knowledge graph can be converted into various output formats by making method calls on the object. The actual processing happens when running the workflow. Decoupling the definition of a workflow from running it allows to analyze dependencies, so that no task is run twice and several independent tasks can be run in parallel.\n",
    "3. Multiple versions of the same project are represented by different objects and can be part of the same workflow. Behind the scenes, different files will be fetched from the data repositories and converted into different target locations.\n",
    "4. Multiple output formats can be defined, and which ones can vary from project to project. The example below will show all available formats on the first project."
   ]
  },
  {
   "cell_type": "code",
   "execution_count": 6,
   "id": "83722e07-7a3f-4385-baf1-3989a44547f5",
   "metadata": {},
   "outputs": [],
   "source": [
    "workdir = \"a_workdir_for_kgw\"\n",
    "\n",
    "# Project 1 in the first version it got published\n",
    "hald1 = kgw.biomedicine.Hald(\"1\", workdir)\n",
    "hald1.to_sqlite()\n",
    "hald1.to_schema()\n",
    "hald1.to_statistics()\n",
    "hald1.to_csv()\n",
    "hald1.to_jsonl()\n",
    "hald1.to_sql()\n",
    "hald1.to_graphml()\n",
    "hald1.to_metta(representation=\"spo\")\n",
    "hald1.to_metta(representation=\"properties_aggregated\")\n",
    "hald1.to_metta(representation=\"properties_expanded\")\n",
    "\n",
    "# Project 1 in the latest version it got published\n",
    "hald2 = kgw.biomedicine.Hald(\"latest\", workdir)\n",
    "hald2.to_schema()\n",
    "hald2.to_graphml()\n",
    "\n",
    "# Project 2\n",
    "oregano = kgw.biomedicine.Oregano(\"latest\", workdir)\n",
    "oregano.to_schema()\n",
    "oregano.to_statistics()\n",
    "oregano.to_metta()\n",
    "\n",
    "# Project 3\n",
    "monarchkg = kgw.biomedicine.MonarchKg(\"latest\", workdir)\n",
    "monarchkg.to_schema()\n",
    "monarchkg.to_csv()"
   ]
  },
  {
   "cell_type": "markdown",
   "id": "b5eb5553-643d-4890-9908-1f3f83d3edcd",
   "metadata": {},
   "source": [
    "## Run it\n",
    "\n",
    "The workflow definition only included the desired version, workdir and outputs. Implicitly this involves additional tasks beyond the conversion to the desired outputs, such as creating all target directories and producing intermediate representations. The workflow engine behind `run` will automatically build a dependency graph of all tasks and execute them in the required order and whenever possible in parallel.\n",
    "\n",
    "The `run` functions accepts a workflow definition in form of either 1) a single project object or 2) multiple project objects in a list, which is shown below. Optionally `verbose=False` can be passed to turn off the printing of a log."
   ]
  },
  {
   "cell_type": "code",
   "execution_count": 7,
   "id": "f65a86ba-d3d5-4ac2-81cd-f8afc38d4281",
   "metadata": {},
   "outputs": [
    {
     "name": "stdout",
     "output_type": "stream",
     "text": [
      "Log of performed tasks\n",
      "======================\n",
      "\n",
      "2024-10-11 01:18:37  \u001b[94mStarted\u001b[0m   CreateDirectory(dirpath=a_workdir_for_kgw/hald_v1/results)\n",
      "2024-10-11 01:18:38  \u001b[92mFinished\u001b[0m  CreateDirectory(dirpath=a_workdir_for_kgw/hald_v1/results)\n",
      "2024-10-11 01:18:38  \u001b[94mStarted\u001b[0m   CreateDirectory(dirpath=a_workdir_for_kgw/hald_v6/results)\n",
      "2024-10-11 01:18:38  \u001b[92mFinished\u001b[0m  CreateDirectory(dirpath=a_workdir_for_kgw/hald_v6/results)\n",
      "2024-10-11 01:18:38  \u001b[94mStarted\u001b[0m   CreateDirectory(dirpath=a_workdir_for_kgw/hald_v6/downloads)\n",
      "2024-10-11 01:18:37  \u001b[94mStarted\u001b[0m   CreateDirectory(dirpath=a_workdir_for_kgw/hald_v1/downloads)\n",
      "2024-10-11 01:18:38  \u001b[92mFinished\u001b[0m  CreateDirectory(dirpath=a_workdir_for_kgw/hald_v6/downloads)\n",
      "2024-10-11 01:18:38  \u001b[92mFinished\u001b[0m  CreateDirectory(dirpath=a_workdir_for_kgw/hald_v1/downloads)\n",
      "2024-10-11 01:18:38  \u001b[94mStarted\u001b[0m   CreateDirectory(dirpath=a_workdir_for_kgw/oregano_v3/results)\n",
      "2024-10-11 01:18:38  \u001b[92mFinished\u001b[0m  CreateDirectory(dirpath=a_workdir_for_kgw/oregano_v3/results)\n",
      "2024-10-11 01:18:38  \u001b[94mStarted\u001b[0m   CreateDirectory(dirpath=a_workdir_for_kgw/oregano_v3/downloads)\n",
      "2024-10-11 01:18:38  \u001b[92mFinished\u001b[0m  CreateDirectory(dirpath=a_workdir_for_kgw/oregano_v3/downloads)\n",
      "2024-10-11 01:18:38  \u001b[94mStarted\u001b[0m   CreateDirectory(dirpath=a_workdir_for_kgw/monarchkg_v2024-09-12/results)\n",
      "2024-10-11 01:18:38  \u001b[92mFinished\u001b[0m  CreateDirectory(dirpath=a_workdir_for_kgw/monarchkg_v2024-09-12/results)\n",
      "2024-10-11 01:18:38  \u001b[94mStarted\u001b[0m   CreateDirectory(dirpath=a_workdir_for_kgw/monarchkg_v2024-09-12/downloads)\n",
      "2024-10-11 01:18:38  \u001b[92mFinished\u001b[0m  CreateDirectory(dirpath=a_workdir_for_kgw/monarchkg_v2024-09-12/downloads)\n",
      "2024-10-11 01:18:38  \u001b[94mStarted\u001b[0m   DownloadFile(dirpath=a_workdir_for_kgw/hald_v6/downloads, filename=Relation_Info.json)\n",
      "2024-10-11 01:18:38  \u001b[94mStarted\u001b[0m   DownloadFile(dirpath=a_workdir_for_kgw/hald_v6/downloads, filename=Entity_Info.json)\n",
      "2024-10-11 01:18:38  \u001b[94mStarted\u001b[0m   DownloadFile(dirpath=a_workdir_for_kgw/hald_v1/downloads, filename=Relation_Info.json)\n",
      "2024-10-11 01:18:38  \u001b[94mStarted\u001b[0m   DownloadFile(dirpath=a_workdir_for_kgw/hald_v1/downloads, filename=Entity_Info.json)\n",
      "2024-10-11 01:18:38  \u001b[94mStarted\u001b[0m   DownloadFile(dirpath=a_workdir_for_kgw/oregano_v3/downloads, filename=GENES.tsv)\n",
      "2024-10-11 01:18:38  \u001b[94mStarted\u001b[0m   DownloadFile(dirpath=a_workdir_for_kgw/oregano_v3/downloads, filename=TARGET.tsv)\n",
      "2024-10-11 01:18:38  \u001b[94mStarted\u001b[0m   DownloadFile(dirpath=a_workdir_for_kgw/oregano_v3/downloads, filename=DISEASES.tsv)\n",
      "2024-10-11 01:18:38  \u001b[94mStarted\u001b[0m   DownloadFile(dirpath=a_workdir_for_kgw/oregano_v3/downloads, filename=EFFECT.tsv)\n",
      "2024-10-11 01:18:38  \u001b[94mStarted\u001b[0m   DownloadFile(dirpath=a_workdir_for_kgw/oregano_v3/downloads, filename=ACTIVITY.tsv)\n",
      "2024-10-11 01:18:38  \u001b[94mStarted\u001b[0m   DownloadFile(dirpath=a_workdir_for_kgw/oregano_v3/downloads, filename=PATHWAYS.tsv)\n",
      "2024-10-11 01:18:38  \u001b[94mStarted\u001b[0m   DownloadFile(dirpath=a_workdir_for_kgw/oregano_v3/downloads, filename=SIDE_EFFECT.tsv)\n",
      "2024-10-11 01:18:38  \u001b[94mStarted\u001b[0m   DownloadFile(dirpath=a_workdir_for_kgw/oregano_v3/downloads, filename=PHENOTYPES.tsv)\n",
      "2024-10-11 01:18:38  \u001b[94mStarted\u001b[0m   DownloadFile(dirpath=a_workdir_for_kgw/oregano_v3/downloads, filename=INDICATION.tsv)\n",
      "2024-10-11 01:18:38  \u001b[94mStarted\u001b[0m   DownloadFile(dirpath=a_workdir_for_kgw/oregano_v3/downloads, filename=COMPOUND.tsv)\n",
      "2024-10-11 01:18:38  \u001b[94mStarted\u001b[0m   DownloadFile(dirpath=a_workdir_for_kgw/oregano_v3/downloads, filename=OREGANO_V2.1.tsv)\n",
      "2024-10-11 01:18:38  \u001b[94mStarted\u001b[0m   DownloadFile(dirpath=a_workdir_for_kgw/monarchkg_v2024-09-12/downloads, filename=monarch-kg.tar.gz)\n",
      "2024-10-11 01:18:48  \u001b[92mFinished\u001b[0m  DownloadFile(dirpath=a_workdir_for_kgw/oregano_v3/downloads, filename=ACTIVITY.tsv)\n",
      "2024-10-11 01:18:48  \u001b[92mFinished\u001b[0m  DownloadFile(dirpath=a_workdir_for_kgw/oregano_v3/downloads, filename=EFFECT.tsv)\n",
      "2024-10-11 01:18:50  \u001b[92mFinished\u001b[0m  DownloadFile(dirpath=a_workdir_for_kgw/oregano_v3/downloads, filename=PATHWAYS.tsv)\n",
      "2024-10-11 01:18:52  \u001b[92mFinished\u001b[0m  DownloadFile(dirpath=a_workdir_for_kgw/oregano_v3/downloads, filename=INDICATION.tsv)\n",
      "2024-10-11 01:18:54  \u001b[92mFinished\u001b[0m  DownloadFile(dirpath=a_workdir_for_kgw/oregano_v3/downloads, filename=SIDE_EFFECT.tsv)\n",
      "2024-10-11 01:18:54  \u001b[92mFinished\u001b[0m  DownloadFile(dirpath=a_workdir_for_kgw/oregano_v3/downloads, filename=DISEASES.tsv)\n",
      "2024-10-11 01:18:56  \u001b[92mFinished\u001b[0m  DownloadFile(dirpath=a_workdir_for_kgw/oregano_v3/downloads, filename=PHENOTYPES.tsv)\n",
      "2024-10-11 01:19:02  \u001b[92mFinished\u001b[0m  DownloadFile(dirpath=a_workdir_for_kgw/oregano_v3/downloads, filename=GENES.tsv)\n",
      "2024-10-11 01:19:10  \u001b[92mFinished\u001b[0m  DownloadFile(dirpath=a_workdir_for_kgw/oregano_v3/downloads, filename=COMPOUND.tsv)\n",
      "2024-10-11 01:19:35  \u001b[92mFinished\u001b[0m  DownloadFile(dirpath=a_workdir_for_kgw/oregano_v3/downloads, filename=TARGET.tsv)\n",
      "2024-10-11 01:19:36  \u001b[94mStarted\u001b[0m   FetchAnnotationFiles(dirpath=a_workdir_for_kgw/oregano_v3, version=3)\n",
      "2024-10-11 01:19:36  \u001b[92mFinished\u001b[0m  FetchAnnotationFiles(dirpath=a_workdir_for_kgw/oregano_v3, version=3)\n",
      "2024-10-11 01:19:42  \u001b[92mFinished\u001b[0m  DownloadFile(dirpath=a_workdir_for_kgw/oregano_v3/downloads, filename=OREGANO_V2.1.tsv)\n",
      "2024-10-11 01:19:42  \u001b[94mStarted\u001b[0m   FetchKnowledgeGraphFile(dirpath=a_workdir_for_kgw/oregano_v3, version=3)\n",
      "2024-10-11 01:19:42  \u001b[92mFinished\u001b[0m  FetchKnowledgeGraphFile(dirpath=a_workdir_for_kgw/oregano_v3, version=3)\n",
      "2024-10-11 01:19:42  \u001b[94mStarted\u001b[0m   CreateSqliteFile(dirpath=a_workdir_for_kgw/oregano_v3, version=3)\n",
      "2024-10-11 01:20:16  \u001b[92mFinished\u001b[0m  DownloadFile(dirpath=a_workdir_for_kgw/hald_v1/downloads, filename=Relation_Info.json)\n",
      "2024-10-11 01:20:17  \u001b[94mStarted\u001b[0m   FetchEdgesFile(dirpath=a_workdir_for_kgw/hald_v1, version=1)\n",
      "2024-10-11 01:20:17  \u001b[92mFinished\u001b[0m  FetchEdgesFile(dirpath=a_workdir_for_kgw/hald_v1, version=1)\n",
      "2024-10-11 01:20:21  \u001b[92mFinished\u001b[0m  CreateSqliteFile(dirpath=a_workdir_for_kgw/oregano_v3, version=3)\n",
      "2024-10-11 01:20:21  \u001b[94mStarted\u001b[0m   CreateSchemaFile(dirpath=a_workdir_for_kgw/oregano_v3, version=3)\n",
      "2024-10-11 01:20:21  \u001b[94mStarted\u001b[0m   CreateStatisticsFile(dirpath=a_workdir_for_kgw/oregano_v3, version=3)\n",
      "2024-10-11 01:20:21  \u001b[94mStarted\u001b[0m   CreateMettaFile(dirpath=a_workdir_for_kgw/oregano_v3, version=3, representation=spo)\n",
      "2024-10-11 01:20:23  \u001b[92mFinished\u001b[0m  CreateStatisticsFile(dirpath=a_workdir_for_kgw/oregano_v3, version=3)\n",
      "2024-10-11 01:20:30  \u001b[92mFinished\u001b[0m  CreateSchemaFile(dirpath=a_workdir_for_kgw/oregano_v3, version=3)\n",
      "2024-10-11 01:20:31  \u001b[92mFinished\u001b[0m  DownloadFile(dirpath=a_workdir_for_kgw/hald_v6/downloads, filename=Relation_Info.json)\n",
      "2024-10-11 01:20:31  \u001b[94mStarted\u001b[0m   FetchEdgesFile(dirpath=a_workdir_for_kgw/hald_v6, version=6)\n",
      "2024-10-11 01:20:31  \u001b[92mFinished\u001b[0m  FetchEdgesFile(dirpath=a_workdir_for_kgw/hald_v6, version=6)\n",
      "2024-10-11 01:20:32  \u001b[92mFinished\u001b[0m  CreateMettaFile(dirpath=a_workdir_for_kgw/oregano_v3, version=3, representation=spo)\n",
      "2024-10-11 01:21:20  \u001b[92mFinished\u001b[0m  DownloadFile(dirpath=a_workdir_for_kgw/monarchkg_v2024-09-12/downloads, filename=monarch-kg.tar.gz)\n",
      "2024-10-11 01:21:20  \u001b[94mStarted\u001b[0m   FetchKnowledgeGraphFile(dirpath=a_workdir_for_kgw/monarchkg_v2024-09-12, version=2024-09-12)\n",
      "2024-10-11 01:21:20  \u001b[92mFinished\u001b[0m  FetchKnowledgeGraphFile(dirpath=a_workdir_for_kgw/monarchkg_v2024-09-12, version=2024-09-12)\n",
      "2024-10-11 01:21:20  \u001b[94mStarted\u001b[0m   DecompressKnowledgeGraphFile(dirpath=a_workdir_for_kgw/monarchkg_v2024-09-12, version=2024-09-12)\n",
      "2024-10-11 01:21:40  \u001b[92mFinished\u001b[0m  DownloadFile(dirpath=a_workdir_for_kgw/hald_v1/downloads, filename=Entity_Info.json)\n",
      "2024-10-11 01:21:40  \u001b[94mStarted\u001b[0m   FetchNodesFile(dirpath=a_workdir_for_kgw/hald_v1, version=1)\n",
      "2024-10-11 01:21:40  \u001b[92mFinished\u001b[0m  FetchNodesFile(dirpath=a_workdir_for_kgw/hald_v1, version=1)\n",
      "2024-10-11 01:21:40  \u001b[94mStarted\u001b[0m   CreateSqliteFile(dirpath=a_workdir_for_kgw/hald_v1, version=1)\n",
      "2024-10-11 01:21:51  \u001b[92mFinished\u001b[0m  DownloadFile(dirpath=a_workdir_for_kgw/hald_v6/downloads, filename=Entity_Info.json)\n",
      "2024-10-11 01:21:51  \u001b[94mStarted\u001b[0m   FetchNodesFile(dirpath=a_workdir_for_kgw/hald_v6, version=6)\n",
      "2024-10-11 01:21:51  \u001b[92mFinished\u001b[0m  FetchNodesFile(dirpath=a_workdir_for_kgw/hald_v6, version=6)\n",
      "2024-10-11 01:21:51  \u001b[94mStarted\u001b[0m   CreateSqliteFile(dirpath=a_workdir_for_kgw/hald_v6, version=6)\n",
      "2024-10-11 01:22:02  \u001b[92mFinished\u001b[0m  CreateSqliteFile(dirpath=a_workdir_for_kgw/hald_v1, version=1)\n",
      "2024-10-11 01:22:02  \u001b[94mStarted\u001b[0m   CreateStatisticsFile(dirpath=a_workdir_for_kgw/hald_v1, version=1)\n",
      "2024-10-11 01:22:02  \u001b[94mStarted\u001b[0m   CreateCompactSchemaFile(dirpath=a_workdir_for_kgw/hald_v1, version=1)\n",
      "2024-10-11 01:22:02  \u001b[94mStarted\u001b[0m   CreateCsvNodesFile(dirpath=a_workdir_for_kgw/hald_v1, version=1)\n",
      "2024-10-11 01:22:02  \u001b[94mStarted\u001b[0m   CreateCsvEdgesFile(dirpath=a_workdir_for_kgw/hald_v1, version=1)\n",
      "2024-10-11 01:22:02  \u001b[94mStarted\u001b[0m   CreateJsonlNodesFile(dirpath=a_workdir_for_kgw/hald_v1, version=1)\n",
      "2024-10-11 01:22:03  \u001b[94mStarted\u001b[0m   CreateSqlFile(dirpath=a_workdir_for_kgw/hald_v1, version=1)\n",
      "2024-10-11 01:22:03  \u001b[94mStarted\u001b[0m   CreateJsonlEdgesFile(dirpath=a_workdir_for_kgw/hald_v1, version=1)\n",
      "2024-10-11 01:22:03  \u001b[94mStarted\u001b[0m   CreateGraphMlFile(dirpath=a_workdir_for_kgw/hald_v1, version=1)\n",
      "2024-10-11 01:22:03  \u001b[94mStarted\u001b[0m   CreateMettaFile(dirpath=a_workdir_for_kgw/hald_v1, version=1, representation=properties_aggregated)\n",
      "2024-10-11 01:22:03  \u001b[94mStarted\u001b[0m   CreateMettaFile(dirpath=a_workdir_for_kgw/hald_v1, version=1, representation=spo)\n",
      "2024-10-11 01:22:03  \u001b[94mStarted\u001b[0m   CreateMettaFile(dirpath=a_workdir_for_kgw/hald_v1, version=1, representation=properties_expanded)\n",
      "2024-10-11 01:22:03  \u001b[92mFinished\u001b[0m  CreateStatisticsFile(dirpath=a_workdir_for_kgw/hald_v1, version=1)\n",
      "2024-10-11 01:22:05  \u001b[92mFinished\u001b[0m  DecompressKnowledgeGraphFile(dirpath=a_workdir_for_kgw/monarchkg_v2024-09-12, version=2024-09-12)\n",
      "2024-10-11 01:22:05  \u001b[94mStarted\u001b[0m   CreateSqliteFile(dirpath=a_workdir_for_kgw/monarchkg_v2024-09-12, version=2024-09-12)\n",
      "2024-10-11 01:22:06  \u001b[92mFinished\u001b[0m  CreateCompactSchemaFile(dirpath=a_workdir_for_kgw/hald_v1, version=1)\n",
      "2024-10-11 01:22:09  \u001b[92mFinished\u001b[0m  CreateJsonlEdgesFile(dirpath=a_workdir_for_kgw/hald_v1, version=1)\n",
      "2024-10-11 01:22:10  \u001b[92mFinished\u001b[0m  CreateMettaFile(dirpath=a_workdir_for_kgw/hald_v1, version=1, representation=spo)\n",
      "2024-10-11 01:22:15  \u001b[92mFinished\u001b[0m  CreateCsvEdgesFile(dirpath=a_workdir_for_kgw/hald_v1, version=1)\n",
      "2024-10-11 01:22:16  \u001b[92mFinished\u001b[0m  CreateJsonlNodesFile(dirpath=a_workdir_for_kgw/hald_v1, version=1)\n",
      "2024-10-11 01:22:17  \u001b[92mFinished\u001b[0m  CreateSqlFile(dirpath=a_workdir_for_kgw/hald_v1, version=1)\n",
      "2024-10-11 01:22:28  \u001b[92mFinished\u001b[0m  CreateSqliteFile(dirpath=a_workdir_for_kgw/hald_v6, version=6)\n",
      "2024-10-11 01:22:28  \u001b[94mStarted\u001b[0m   CreateGraphMlFile(dirpath=a_workdir_for_kgw/hald_v6, version=6)\n",
      "2024-10-11 01:22:28  \u001b[94mStarted\u001b[0m   CreateCompactSchemaFile(dirpath=a_workdir_for_kgw/hald_v6, version=6)\n",
      "2024-10-11 01:22:32  \u001b[92mFinished\u001b[0m  CreateCompactSchemaFile(dirpath=a_workdir_for_kgw/hald_v6, version=6)\n",
      "2024-10-11 01:22:41  \u001b[92mFinished\u001b[0m  CreateMettaFile(dirpath=a_workdir_for_kgw/hald_v1, version=1, representation=properties_aggregated)\n",
      "2024-10-11 01:22:44  \u001b[92mFinished\u001b[0m  CreateCsvNodesFile(dirpath=a_workdir_for_kgw/hald_v1, version=1)\n",
      "2024-10-11 01:22:47  \u001b[92mFinished\u001b[0m  CreateGraphMlFile(dirpath=a_workdir_for_kgw/hald_v1, version=1)\n",
      "2024-10-11 01:23:06  \u001b[92mFinished\u001b[0m  CreateGraphMlFile(dirpath=a_workdir_for_kgw/hald_v6, version=6)\n",
      "2024-10-11 01:24:23  \u001b[92mFinished\u001b[0m  CreateMettaFile(dirpath=a_workdir_for_kgw/hald_v1, version=1, representation=properties_expanded)\n",
      "2024-10-11 01:35:08  \u001b[92mFinished\u001b[0m  CreateSqliteFile(dirpath=a_workdir_for_kgw/monarchkg_v2024-09-12, version=2024-09-12)\n",
      "2024-10-11 01:35:08  \u001b[94mStarted\u001b[0m   CreateSchemaFile(dirpath=a_workdir_for_kgw/monarchkg_v2024-09-12, version=2024-09-12)\n",
      "2024-10-11 01:35:08  \u001b[94mStarted\u001b[0m   CreateCsvNodesFile(dirpath=a_workdir_for_kgw/monarchkg_v2024-09-12, version=2024-09-12)\n",
      "2024-10-11 01:35:08  \u001b[94mStarted\u001b[0m   CreateCsvEdgesFile(dirpath=a_workdir_for_kgw/monarchkg_v2024-09-12, version=2024-09-12)\n",
      "2024-10-11 01:35:35  \u001b[92mFinished\u001b[0m  CreateCsvNodesFile(dirpath=a_workdir_for_kgw/monarchkg_v2024-09-12, version=2024-09-12)\n",
      "2024-10-11 01:37:46  \u001b[92mFinished\u001b[0m  CreateSchemaFile(dirpath=a_workdir_for_kgw/monarchkg_v2024-09-12, version=2024-09-12)\n",
      "2024-10-11 01:41:22  \u001b[92mFinished\u001b[0m  CreateCsvEdgesFile(dirpath=a_workdir_for_kgw/monarchkg_v2024-09-12, version=2024-09-12)\n",
      "\n",
      "\n",
      "Summary of workflow results\n",
      "===========================\n",
      "\n",
      "Scheduled 55 tasks of which:\n",
      "* 55 ran successfully:\n",
      "    - 2 CreateCompactSchemaFile(...)\n",
      "    - 2 CreateCsvEdgesFile(dirpath=a_workdir_for_kgw/hald_v1, version=1) and CreateCsvEdgesFile(dirpath=a_workdir_for_kgw/monarchkg_v2024-09-12, version=2024-09-12)\n",
      "    - 2 CreateCsvNodesFile(dirpath=a_workdir_for_kgw/hald_v1, version=1) and CreateCsvNodesFile(dirpath=a_workdir_for_kgw/monarchkg_v2024-09-12, version=2024-09-12)\n",
      "    - 8 CreateDirectory(dirpath=a_workdir_for_kgw/hald_v1/downloads,a_workdir_for_kgw/hald_v1/results,a_workdir_for_kgw/hald_v6/downloads,...)\n",
      "    - 2 CreateGraphMlFile(dirpath=a_workdir_for_kgw/hald_v1, version=1) and CreateGraphMlFile(dirpath=a_workdir_for_kgw/hald_v6, version=6)\n",
      "    ...\n",
      "\n",
      "This progress looks :) because there were no failed tasks or missing dependencies\n"
     ]
    }
   ],
   "source": [
    "status = kgw.run([hald1, hald2, oregano, monarchkg])"
   ]
  },
  {
   "cell_type": "code",
   "execution_count": 8,
   "id": "e5cc8fd6-89c9-4305-814e-302e37179fef",
   "metadata": {},
   "outputs": [
    {
     "name": "stdout",
     "output_type": "stream",
     "text": [
      "The workflow fully succeeded: True\n"
     ]
    }
   ],
   "source": [
    "print(\"The workflow fully succeeded:\", status)"
   ]
  },
  {
   "cell_type": "markdown",
   "id": "2c098639-b78a-4670-b038-1758bdcc56fc",
   "metadata": {},
   "source": [
    "## Inspect the results\n",
    "\n",
    "Running the workflow generates several directories and files within the user-defined working directory. Each combination of project & version get a unique directory to contain all downloads and results."
   ]
  },
  {
   "cell_type": "code",
   "execution_count": 9,
   "id": "ec44097b-e91d-4618-bfb7-2ec3fda8366a",
   "metadata": {},
   "outputs": [
    {
     "name": "stdout",
     "output_type": "stream",
     "text": [
      "a_workdir_for_kgw/\n",
      "  hald_v1/\n",
      "    downloads/\n",
      "      \u001b[91mEntity_Info.json\u001b[0m\n",
      "      \u001b[91mRelation_Info.json\u001b[0m\n",
      "    results/\n",
      "      \u001b[92mkg_edges.jsonl\u001b[0m\n",
      "      \u001b[92mkg.graphml\u001b[0m\n",
      "      \u001b[92mkg.sqlite\u001b[0m\n",
      "      \u001b[92mkg_properties_expanded.metta\u001b[0m\n",
      "      \u001b[92mstatistics.json\u001b[0m\n",
      "      \u001b[92mkg_properties_aggregated.metta\u001b[0m\n",
      "      \u001b[92mkg_nodes.jsonl\u001b[0m\n",
      "      \u001b[92mkg_spo.metta\u001b[0m\n",
      "      \u001b[92mschema.html\u001b[0m\n",
      "      \u001b[92mkg.sql\u001b[0m\n",
      "      \u001b[92mkg_edges.csv\u001b[0m\n",
      "      \u001b[92mkg_nodes.csv\u001b[0m\n",
      "  hald_v6/\n",
      "    downloads/\n",
      "      \u001b[91mEntity_Info.json\u001b[0m\n",
      "      \u001b[91mRelation_Info.json\u001b[0m\n",
      "    results/\n",
      "      \u001b[92mkg.graphml\u001b[0m\n",
      "      \u001b[92mkg.sqlite\u001b[0m\n",
      "      \u001b[92mschema.html\u001b[0m\n",
      "  monarchkg_v2024-09-12/\n",
      "    downloads/\n",
      "      \u001b[91mmonarch-kg.tar.gz\u001b[0m\n",
      "    results/\n",
      "      \u001b[92mkg.sqlite\u001b[0m\n",
      "      \u001b[92mschema.html\u001b[0m\n",
      "      \u001b[92mkg_edges.csv\u001b[0m\n",
      "      \u001b[92mkg_nodes.csv\u001b[0m\n",
      "  oregano_v3/\n",
      "    downloads/\n",
      "      \u001b[91mCOMPOUND.tsv\u001b[0m\n",
      "      \u001b[91mPATHWAYS.tsv\u001b[0m\n",
      "      \u001b[91mTARGET.tsv\u001b[0m\n",
      "      \u001b[91mACTIVITY.tsv\u001b[0m\n",
      "      \u001b[91mINDICATION.tsv\u001b[0m\n",
      "      \u001b[91mGENES.tsv\u001b[0m\n",
      "      \u001b[91mOREGANO_V2.1.tsv\u001b[0m\n",
      "      \u001b[91mDISEASES.tsv\u001b[0m\n",
      "      \u001b[91mPHENOTYPES.tsv\u001b[0m\n",
      "      \u001b[91mEFFECT.tsv\u001b[0m\n",
      "      \u001b[91mSIDE_EFFECT.tsv\u001b[0m\n",
      "    results/\n",
      "      \u001b[92mkg.sqlite\u001b[0m\n",
      "      \u001b[92mstatistics.json\u001b[0m\n",
      "      \u001b[92mkg_spo.metta\u001b[0m\n",
      "      \u001b[92mschema.html\u001b[0m\n"
     ]
    }
   ],
   "source": [
    "import os\n",
    "\n",
    "def inspect_directory(path):\n",
    "    RED = \"\\033[91m\"\n",
    "    GREEN = \"\\033[92m\"\n",
    "    RESET = \"\\033[0m\"\n",
    "    for root, _, files in sorted(os.walk(path)):\n",
    "        dir_name = os.path.basename(root)\n",
    "        level = root.replace(path, '').count(os.sep)\n",
    "        color = RED if dir_name == \"downloads\" else GREEN\n",
    "        dir_indent = ' ' * 2 * level\n",
    "        file_indent = ' ' * 2 * (level + 1)\n",
    "        print(f\"{dir_indent}{dir_name}/\")\n",
    "        for file_name in files:\n",
    "            print(f\"{file_indent}{color}{file_name}{RESET}\")\n",
    "\n",
    "inspect_directory(workdir)"
   ]
  },
  {
   "cell_type": "markdown",
   "id": "6f71ed72-278a-4f72-9c35-9dadd9fea9f1",
   "metadata": {},
   "source": [
    "## Interpret them\n",
    "\n",
    "- The workflow definition at the beginning means that the knowledge graphs of several projects should be converted to several output files of different formats. This requires that the original files are downloaded from the projects' respective web repositories and then converted step by step into the desired output formats.\n",
    "- Running the workflow auto-generates a directory structure in the user-defined working directory `a_workdir_for_kgw`. First there is a subdirectory for each project in its chosen version, so that no collisions can happen. Each directory of such a kind then has two further subdirectories to separate fetched from generated files:\n",
    "  - The `downloads` directory contains all files fetched from the project's web repository in unmodified form, shown in red here. The number and types of files varies between projects because there is no widely accepted standard for how to encode a knowledge graph.\n",
    "  - The `results` directory contains all files derived from the raw downloads, shown in green here.\n",
    "    - `kg.sqlite` is a file-based SQLite database, which serves as intermediate format that is used as common basis for all conversions and analyses supported by this package. For this reason, it has to be generated in every case before producing any other outputs.\n",
    "\n",
    "- It is possible to define a small workflow for a single project and output, or a large workflow for multiple projects, versions and output formats. Internally, the Python package [luigi](https://github.com/spotify/luigi) is used to build a dependency graph, which contains all tasks that need to be run in order to produce the desired output files. The local inputs and outputs of each task along the way are well defined, so the scheduler can automatically run them as early as possible and often in parallel. For example, all downloads are independent, so they don't need to wait for each other, but some downstream conversions require multiple input files, so they have to wait for a specific subset of downloads or other conversions to be finished. The overall process can be tracked through messages that are written whenever a task starts or is finished. If everything worked, the `run` function returns `True`. If some part failed, e.g. due to a failed web connection, the other parts are attempted to be finished as far as possible, but a `False` is returned to make clear that something is missing. The workflow can then be restarted and will not begin again from zero, but rather will only run tasks that have not produced their local outputs yet. Some work may be lost anyways, e.g. when a specific conversion was interrupted in the middle the progress is usually lost, but downloads will attempt to continue from partial files."
   ]
  }
 ],
 "metadata": {
  "kernelspec": {
   "display_name": "Python 3 (ipykernel)",
   "language": "python",
   "name": "python3"
  },
  "language_info": {
   "codemirror_mode": {
    "name": "ipython",
    "version": 3
   },
   "file_extension": ".py",
   "mimetype": "text/x-python",
   "name": "python",
   "nbconvert_exporter": "python",
   "pygments_lexer": "ipython3",
   "version": "3.12.4"
  }
 },
 "nbformat": 4,
 "nbformat_minor": 5
}
